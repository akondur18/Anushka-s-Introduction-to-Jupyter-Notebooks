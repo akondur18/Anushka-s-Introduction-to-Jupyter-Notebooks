{
  "metadata": {
    "language_info": {
      "codemirror_mode": {
        "name": "python",
        "version": 3
      },
      "file_extension": ".py",
      "mimetype": "text/x-python",
      "name": "python",
      "nbconvert_exporter": "python",
      "pygments_lexer": "ipython3",
      "version": "3.8"
    },
    "kernelspec": {
      "name": "python",
      "display_name": "Python (Pyodide)",
      "language": "python"
    }
  },
  "nbformat_minor": 4,
  "nbformat": 4,
  "cells": [
    {
      "cell_type": "markdown",
      "source": "Anushka Kondur's Notebook",
      "metadata": {}
    },
    {
      "cell_type": "code",
      "source": "This notebook will demonstrate my mastery of the many uses of Jupyter Notebooks",
      "metadata": {},
      "execution_count": null,
      "outputs": []
    },
    {
      "cell_type": "code",
      "source": " Data Science Languages\n- Python\n- R\n- Julia",
      "metadata": {},
      "execution_count": null,
      "outputs": []
    },
    {
      "cell_type": "code",
      "source": " Data Science Libraries\n- NumPy\n- Pandas\n- Scikit-learn",
      "metadata": {},
      "execution_count": null,
      "outputs": []
    },
    {
      "cell_type": "code",
      "source": "Data Science Tools\n\n| Category   | Tools          |\n|------------|----------------|\n| Visualization | Matplotlib, Seaborn |\n| Machine Learning | TensorFlow, PyTorch |\n| Data Processing | Apache Spark, Dask |",
      "metadata": {},
      "execution_count": null,
      "outputs": []
    },
    {
      "cell_type": "code",
      "source": "Arithmetic Expressions\nIn this exercise, we will explore examples of arithmetic expressions using Python.",
      "metadata": {},
      "execution_count": null,
      "outputs": []
    },
    {
      "cell_type": "code",
      "source": "Multiplication and Addition\na = 5\nb = 3\nproduct = a * b\nsum = a + b\nprint(\"Product:\", product)\nprint(\"Sum:\", sum)",
      "metadata": {},
      "execution_count": null,
      "outputs": []
    },
    {
      "cell_type": "code",
      "source": " Conversion of Minutes to Hours\nminutes = 120\nhours = minutes / 60\nprint(\"Hours:\", hours)",
      "metadata": {},
      "execution_count": null,
      "outputs": []
    },
    {
      "cell_type": "code",
      "source": " Objectives\n- Learn about data science languages and libraries\n- Understand data science tools for visualization, machine learning, and data processing\n- Explore arithmetic expressions and basic calculations in Python",
      "metadata": {},
      "execution_count": null,
      "outputs": []
    },
    {
      "cell_type": "code",
      "source": "Author: Anushka Kondur",
      "metadata": {},
      "execution_count": null,
      "outputs": []
    }
  ]
}